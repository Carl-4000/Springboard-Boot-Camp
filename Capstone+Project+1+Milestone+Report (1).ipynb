{
 "cells": [
  {
   "cell_type": "markdown",
   "metadata": {},
   "source": [
    "1. Defining the Problem: \n",
    "    \n",
    "The problem is for a lender looking at a loan application, a potential loan. If this loan was accepted, would the loan eventually be repaid or not? \n",
    "\n",
    "2. Identify the client: \n",
    "\n",
    "The client market for this type of data science would be financial supply side, lenders, banks, and investors from all backgorunds interested in gaining an informational prediction advantage from data science. \n",
    "\n",
    "3. Describe the data set and how it was cleaned and wrangled\n",
    "\n",
    "The data set was taken from Lending Club, representing the loans they accepted for a range of years. The \"na\" values were dealt with via deletion, and unnecessary columns were dropped. Percentages were deleted from rows, and data was normalized for one-hot encoding. \n",
    "\n",
    "4. Other potential data sets: \n",
    "\n",
    "a. the matrix of loans rejected by Lending Club \n",
    "b. any older or other data sets ever released by Lending Club\n",
    "c. loans data released by other internet-based lenders\n",
    "\n",
    "5. Explain your initial findings: \n",
    "\n",
    "Initial findings show that there are a number of highly correlated factors, and that this is an interesting classification problem. Before diving into machine learning, the initial findings show this is a large data set with over 60,000 rows, and a robust one as well with over 145 columns. \n",
    "\n",
    "6. Code and writeup shared to Github\n",
    "\n",
    "Including a reference in the readme to help explain. "
   ]
  }
 ],
 "metadata": {
  "kernelspec": {
   "display_name": "Python 3",
   "language": "python",
   "name": "python3"
  },
  "language_info": {
   "codemirror_mode": {
    "name": "ipython",
    "version": 3
   },
   "file_extension": ".py",
   "mimetype": "text/x-python",
   "name": "python",
   "nbconvert_exporter": "python",
   "pygments_lexer": "ipython3",
   "version": "3.5.2"
  }
 },
 "nbformat": 4,
 "nbformat_minor": 2
}
