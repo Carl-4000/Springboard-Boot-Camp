{
 "cells": [
  {
   "cell_type": "code",
   "execution_count": null,
   "metadata": {
    "collapsed": true
   },
   "outputs": [],
   "source": [
    "#1.\n",
    "\n",
    "#This project addresses uncertainty and lag-time \n",
    "#in loan application processes. \n",
    "\n",
    "#2. \n",
    "\n",
    "#Mortgage applications can cost hundreds of dollars apiece. Even\n",
    "#those that are free of charge require hard credit-checks (and thus a\n",
    "#temporary FICO-score reduction of about 4 points for roughly a month), \n",
    "#and of course large amounts of valuable time spent completing paperwork. \n",
    "#Knowing early-on which banks make sense and are realistic for a specific \n",
    "#loan applicant is very valuable information and could help retail \n",
    "#borrowers understand their needs, or even power a financial consultancy. \n",
    "\n",
    "#Gaining certainty and expediency in the loan application process is a \n",
    "#potential advantage for lenders as well, allowing banks to perhaps \n",
    "#rubber-stamp approvals or denials for extreme cases, and allocate \n",
    "#resources to more closely inspect the edge-case applicants early-on.\n",
    "\n",
    "#3. \n",
    "\n",
    "#I've acquired some data from the Lending Club for years 2011-2014.\n",
    "#This data consists of 3 files, one data dictionary for the 150 columns \n",
    "#in the main loan data matrix, which also is about 70,000 rows long. \n",
    "#The third matrix is denied applications, and is 8 columns with roughly \n",
    "#30,000 rows. \n",
    "\n",
    "#4.\n",
    "\n",
    "#The scientific question I am asking is: how accurately can we classify \n",
    "#(or predict) a test loan into categories 'accepted' or 'denied?' \n",
    " \n",
    "#After cleaning the data and running some linear algebra to relate the two \n",
    "#matrices in logical ways, relevant to the data story, I plan to build \n",
    "#machine learning models and measure their success in predicting the \n",
    "#outcomes of randomly selected test batches of loan applications from \n",
    "#the dataset.\n",
    "\n",
    "#5. \n",
    "\n",
    "#Project Deliverables  \n",
    "\n",
    "#- Python code on Github with the models and their success rates, \n",
    "#with an emphasis on clarity and reproductability. \n",
    "\n",
    "#- paper explaining the literature review and approaches taken\n",
    "\n",
    "#- powerpoint explaining in business terms what has been done\n",
    "\n",
    "#- video walking through the code for the project and demoing and \n",
    "#explaining it\n",
    "\n",
    "# -blog post outlining the project on Medium"
   ]
  }
 ],
 "metadata": {
  "kernelspec": {
   "display_name": "Python 3",
   "language": "python",
   "name": "python3"
  },
  "language_info": {
   "codemirror_mode": {
    "name": "ipython",
    "version": 3
   },
   "file_extension": ".py",
   "mimetype": "text/x-python",
   "name": "python",
   "nbconvert_exporter": "python",
   "pygments_lexer": "ipython3",
   "version": "3.5.2"
  }
 },
 "nbformat": 4,
 "nbformat_minor": 2
}
